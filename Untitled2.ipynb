{
 "cells": [
  {
   "cell_type": "code",
   "execution_count": null,
   "metadata": {},
   "outputs": [],
   "source": [
    "#Question 1:Given the following jumbled word, OBANWRI guess the correct English word. \n",
    "\n",
    "A- RANIBOW\n",
    "B. RAINBOW\n",
    "C. BOWRANI\n",
    "D. ROBWANI"
   ]
  },
  {
   "cell_type": "code",
   "execution_count": null,
   "metadata": {},
   "outputs": [],
   "source": [
    "ANS: B-RAINBOW"
   ]
  },
  {
   "cell_type": "code",
   "execution_count": 3,
   "metadata": {},
   "outputs": [
    {
     "name": "stdout",
     "output_type": "stream",
     "text": [
      "LETS UPGRADE\n"
     ]
    }
   ],
   "source": [
    "#Question 2\n",
    "#Write a program which prints “LETS UPGRADE”. (Please note that you have to print in ALL CAPS as given)\n",
    "\n",
    "\n",
    "s='Lets Upgrade'\n",
    "print(s.upper())"
   ]
  },
  {
   "cell_type": "code",
   "execution_count": 4,
   "metadata": {},
   "outputs": [
    {
     "name": "stdout",
     "output_type": "stream",
     "text": [
      "cost price:20\n",
      "selling price:30\n",
      "Profit\n"
     ]
    }
   ],
   "source": [
    "#Question 3 Write a program that takes cost price and selling price as input and displays whether the transaction is a Profit or a Loss or Neither. INPUT FORMAT The first line contains the cost price. The second line contains the selling price. OUTPUT FORMAT Print \"Profit\" if the transaction is a profit or \"Loss\" if it is a loss. If it is neither profit nor loss, print \"Neither\". (You must not have quotes in your output)\n",
    "\n",
    "\n",
    "#Answer to Q3\n",
    "\n",
    "cp = eval(input(\"cost price:\"))\n",
    "sp = eval(input(\"selling price:\"))\n",
    "\n",
    "PL = sp-cp\n",
    "\n",
    "if PL<=0:\n",
    "    if PL < 0:\n",
    "        print(\"Loss\")\n",
    "    else:\n",
    "        print(\"Neither\")\n",
    "else:\n",
    "    print(\"Profit\")"
   ]
  },
  {
   "cell_type": "code",
   "execution_count": 5,
   "metadata": {},
   "outputs": [
    {
     "name": "stdout",
     "output_type": "stream",
     "text": [
      "Euro =20\n",
      "1600\n"
     ]
    }
   ],
   "source": [
    "#Question 4 Write a program that takes an amount in Euros as input. You need to find its equivalent in Rupees and display it. Assume 1 Euro equals Rs. 80. Please note that you are expected to stick to the given input and output format as in sample test cases. Please don't add any extra lines such as 'Enter a number', etc. Your program should take only one number as input and display the output\n",
    "\n",
    "\n",
    "\n",
    "#Answer to Q4\n",
    "\n",
    "E = eval(input(\"Euro =\"))\n",
    "\n",
    "R = E*80\n",
    "\n",
    "print(R)"
   ]
  },
  {
   "cell_type": "code",
   "execution_count": null,
   "metadata": {},
   "outputs": [],
   "source": []
  }
 ],
 "metadata": {
  "kernelspec": {
   "display_name": "Python 3",
   "language": "python",
   "name": "python3"
  },
  "language_info": {
   "codemirror_mode": {
    "name": "ipython",
    "version": 3
   },
   "file_extension": ".py",
   "mimetype": "text/x-python",
   "name": "python",
   "nbconvert_exporter": "python",
   "pygments_lexer": "ipython3",
   "version": "3.8.5"
  }
 },
 "nbformat": 4,
 "nbformat_minor": 4
}
